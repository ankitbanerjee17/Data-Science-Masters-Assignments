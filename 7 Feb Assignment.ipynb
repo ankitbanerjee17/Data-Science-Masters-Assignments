{
 "cells": [
  {
   "cell_type": "markdown",
   "id": "96be9c43-6279-42d2-86a2-e8b17eeff267",
   "metadata": {},
   "source": [
    "## Answer 1"
   ]
  },
  {
   "cell_type": "code",
   "execution_count": 1,
   "id": "866b98db-cad9-44ad-995e-3e1f1eeb10c2",
   "metadata": {},
   "outputs": [],
   "source": [
    "def check_password(p):\n",
    "    if len(p) != 10:\n",
    "        return \"Invalid Password\"\n",
    "\n",
    "    num_of_uppercase = 0\n",
    "    num_of_lowercase = 0\n",
    "    num_of_numbers = 0\n",
    "    num_of_special_chars = 0\n",
    "\n",
    "    for char in p:\n",
    "        if char.isupper():\n",
    "            num_of_uppercase += 1\n",
    "        elif char.islower():\n",
    "            num_of_lowercase += 1\n",
    "        elif char.isdigit():\n",
    "            num_of_numbers += 1\n",
    "        elif not char.isalnum():\n",
    "            num_of_special_chars += 1\n",
    "\n",
    "    if num_of_uppercase >= 2 and num_of_lowercase >= 2 and num_of_numbers >= 1 and num_of_special_chars >= 3:\n",
    "        return \"Valid Password\"\n",
    "    else:\n",
    "        return \"Invalid Password\""
   ]
  },
  {
   "cell_type": "markdown",
   "id": "dd80a25c-985e-42d5-b03a-191d666055c1",
   "metadata": {},
   "source": [
    "## Answer 2"
   ]
  },
  {
   "cell_type": "code",
   "execution_count": 12,
   "id": "a430ea8e-7c67-4a19-8c59-515330eca5c2",
   "metadata": {},
   "outputs": [],
   "source": [
    "#1\n",
    "check_start_with_letter = lambda string, letter: True if string.startswith(letter) else False"
   ]
  },
  {
   "cell_type": "code",
   "execution_count": 13,
   "id": "2126cd86-1a2f-487d-842f-244d99a50a1b",
   "metadata": {},
   "outputs": [],
   "source": [
    "#2\n",
    "check_if_numeric = lambda string: True if string.isnumeric() else False"
   ]
  },
  {
   "cell_type": "code",
   "execution_count": 14,
   "id": "049664e5-4eee-443f-b5d7-d04a93966afb",
   "metadata": {},
   "outputs": [
    {
     "name": "stdout",
     "output_type": "stream",
     "text": [
      "[('orange', 80), ('mango', 99), ('grapes', 1000)]\n"
     ]
    }
   ],
   "source": [
    "#3\n",
    "fruits = [(\"mango\", 99), (\"orange\", 80), (\"grapes\", 1000)]\n",
    "sorted_fruits = sorted(fruits, key=lambda x: x[1])\n",
    "print(sorted_fruits)"
   ]
  },
  {
   "cell_type": "code",
   "execution_count": 15,
   "id": "38dbe84d-edf0-4335-821f-01f785652ad7",
   "metadata": {},
   "outputs": [
    {
     "data": {
      "text/plain": [
       "[1, 4, 9, 16, 25, 36, 49, 64, 81, 100]"
      ]
     },
     "execution_count": 15,
     "metadata": {},
     "output_type": "execute_result"
    }
   ],
   "source": [
    "#4\n",
    "s=range(1,11)\n",
    "list(map(lambda x : x**2, s))"
   ]
  },
  {
   "cell_type": "code",
   "execution_count": 17,
   "id": "66dc0005-4a96-4ed3-98f8-041f7da0b43c",
   "metadata": {},
   "outputs": [
    {
     "data": {
      "text/plain": [
       "[1.0,\n",
       " 1.2599210498948732,\n",
       " 1.4422495703074083,\n",
       " 1.5874010519681994,\n",
       " 1.7099759466766968,\n",
       " 1.8171205928321397,\n",
       " 1.912931182772389,\n",
       " 2.0,\n",
       " 2.080083823051904,\n",
       " 2.154434690031884]"
      ]
     },
     "execution_count": 17,
     "metadata": {},
     "output_type": "execute_result"
    }
   ],
   "source": [
    "#5\n",
    "s=range(1,11)\n",
    "list(map(lambda x : x**(1/3), s))"
   ]
  },
  {
   "cell_type": "code",
   "execution_count": 21,
   "id": "50288f7e-569c-4ffe-986f-2afedc83f805",
   "metadata": {},
   "outputs": [],
   "source": [
    "#6\n",
    "num_divisible_by_2 = lambda x : True if x%2==0 else False"
   ]
  },
  {
   "cell_type": "code",
   "execution_count": 22,
   "id": "138f7fd2-0549-47b6-9f8a-239c14b3faa5",
   "metadata": {},
   "outputs": [
    {
     "data": {
      "text/plain": [
       "[1, 3, 5, 7, 9]"
      ]
     },
     "execution_count": 22,
     "metadata": {},
     "output_type": "execute_result"
    }
   ],
   "source": [
    "#7 \n",
    "s=[1,2,3,4,5,6,7,8,9,10]\n",
    "list(filter(lambda x : x if x%2!=0 else None, s))"
   ]
  },
  {
   "cell_type": "code",
   "execution_count": 25,
   "id": "a859ff9d-ea19-43e7-8e6b-d35cc6539a5e",
   "metadata": {},
   "outputs": [
    {
     "name": "stdout",
     "output_type": "stream",
     "text": [
      "Positive Numbers:  [1, 2, 3, 4, 5, 6]\n",
      "Positive Numbers:  [-1, -2, -3, -4, -5]\n"
     ]
    }
   ],
   "source": [
    "#8\n",
    "numbers = [1, 2, 3, 4, 5, 6, -1, -2, -3, -4, -5, 0]\n",
    "\n",
    "print(\"Positive Numbers: \", list(filter(lambda x: x > 0, numbers)))\n",
    "print(\"Positive Numbers: \", list(filter(lambda x: x < 0, numbers)))"
   ]
  }
 ],
 "metadata": {
  "kernelspec": {
   "display_name": "Python 3 (ipykernel)",
   "language": "python",
   "name": "python3"
  },
  "language_info": {
   "codemirror_mode": {
    "name": "ipython",
    "version": 3
   },
   "file_extension": ".py",
   "mimetype": "text/x-python",
   "name": "python",
   "nbconvert_exporter": "python",
   "pygments_lexer": "ipython3",
   "version": "3.10.8"
  }
 },
 "nbformat": 4,
 "nbformat_minor": 5
}
