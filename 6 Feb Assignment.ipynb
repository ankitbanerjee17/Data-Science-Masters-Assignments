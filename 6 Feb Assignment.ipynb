{
 "cells": [
  {
   "cell_type": "markdown",
   "id": "e40cbe6b-ce9b-462b-a992-27cc73b254c3",
   "metadata": {},
   "source": [
    "## Question 1"
   ]
  },
  {
   "cell_type": "code",
   "execution_count": null,
   "id": "79b1168d-d531-4547-af87-38e7c697951b",
   "metadata": {},
   "outputs": [],
   "source": [
    "def flatten_and_multiply(lst):\n",
    "    flat_list = []\n",
    "    for i in lst:\n",
    "        if type(i)==int:\n",
    "            flat_list.append(item)\n",
    "        elif type(i)==list and tuple and set:\n",
    "            flat_list.extend(flatten_and_multiply(item))\n",
    "        elif type(i)==dict:\n",
    "            for key, value in i.items():\n",
    "                if type(i)==int:\n",
    "                    flat_list.append(key)\n",
    "                if type(key[i])==int:\n",
    "                    flat_list.append(value)\n",
    "                elif isinstance(value, (list, tuple, dict)):\n",
    "                    flat_list.extend(flatten_and_multiply(value))\n",
    "    product = 1\n",
    "    for num in flat_list:\n",
    "        product *= num\n",
    "    return product"
   ]
  },
  {
   "cell_type": "markdown",
   "id": "3972f14b-3241-4ca7-a33f-05b5b8bf8ceb",
   "metadata": {},
   "source": [
    "## Question 2"
   ]
  },
  {
   "cell_type": "code",
   "execution_count": 2,
   "id": "8a676181-b920-429b-bddb-ac4ff53b06cf",
   "metadata": {},
   "outputs": [],
   "source": [
    "def encrypt_message(message):\n",
    "    encrypted_message = \"\"\n",
    "    for i in message:\n",
    "        if i == ' ':\n",
    "            encrypted_message += '$'\n",
    "        elif i.isalpha():\n",
    "            encrypted_message += chr(122 - ord(i.lower()) + 97)\n",
    "        else:\n",
    "            encrypted_message += i\n",
    "    return encrypted_message\n"
   ]
  },
  {
   "cell_type": "code",
   "execution_count": 3,
   "id": "2d86912e-4d5b-41dc-955d-bf6f14dfaeb5",
   "metadata": {},
   "outputs": [
    {
     "name": "stdout",
     "output_type": "stream",
     "text": [
      "The encrypted message is :  r$dzmg$gl$yvxlnv$z$wzgz$hxrvmgrhg.\n"
     ]
    }
   ],
   "source": [
    "a = \"I want to become a Data Scientist.\"\n",
    "print(\"The encrypted message is : \", encrypt_message(a))"
   ]
  }
 ],
 "metadata": {
  "kernelspec": {
   "display_name": "Python 3 (ipykernel)",
   "language": "python",
   "name": "python3"
  },
  "language_info": {
   "codemirror_mode": {
    "name": "ipython",
    "version": 3
   },
   "file_extension": ".py",
   "mimetype": "text/x-python",
   "name": "python",
   "nbconvert_exporter": "python",
   "pygments_lexer": "ipython3",
   "version": "3.10.8"
  }
 },
 "nbformat": 4,
 "nbformat_minor": 5
}
