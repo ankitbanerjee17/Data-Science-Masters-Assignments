{
 "cells": [
  {
   "cell_type": "markdown",
   "id": "5b127849-6cd6-40be-95a1-6d66649d375a",
   "metadata": {},
   "source": [
    "## Question 1"
   ]
  },
  {
   "cell_type": "code",
   "execution_count": 1,
   "id": "3d853ca2-bb8c-4fe9-b48d-0f92d3e52b3f",
   "metadata": {},
   "outputs": [],
   "source": [
    "a = [('Sachin Tendulkar', 34357), ('Ricky Ponting', 27483), ('Jack Kallis', 25534), ('Virat Kohli', 24936)]"
   ]
  },
  {
   "cell_type": "code",
   "execution_count": 6,
   "id": "0863f995-567e-49ec-a373-9a7500eeea82",
   "metadata": {},
   "outputs": [],
   "source": [
    "sort = sorted(a, key=lambda x : x[1])"
   ]
  },
  {
   "cell_type": "code",
   "execution_count": 7,
   "id": "b08fd6f9-1896-41c4-a810-3e4f5cddb847",
   "metadata": {},
   "outputs": [
    {
     "name": "stdout",
     "output_type": "stream",
     "text": [
      "[('Virat Kohli', 24936), ('Jack Kallis', 25534), ('Ricky Ponting', 27483), ('Sachin Tendulkar', 34357)]\n"
     ]
    }
   ],
   "source": [
    "print(sort)"
   ]
  },
  {
   "cell_type": "markdown",
   "id": "215c3845-d28d-471c-b37f-6fc379b24a84",
   "metadata": {},
   "source": [
    "## Question 2"
   ]
  },
  {
   "cell_type": "code",
   "execution_count": 13,
   "id": "514aec1c-306b-41c4-b4ca-729575bb17db",
   "metadata": {},
   "outputs": [],
   "source": [
    "l = [1, 2, 3, 4, 5, 6, 7, 8, 9, 10]"
   ]
  },
  {
   "cell_type": "code",
   "execution_count": 14,
   "id": "e4e1cd9b-b07e-4791-9708-ce4beb1e75ab",
   "metadata": {},
   "outputs": [
    {
     "data": {
      "text/plain": [
       "[1, 4, 9, 16, 25, 36, 49, 64, 81, 100]"
      ]
     },
     "execution_count": 14,
     "metadata": {},
     "output_type": "execute_result"
    }
   ],
   "source": [
    "list(map(lambda x : x**2 , l))"
   ]
  },
  {
   "cell_type": "markdown",
   "id": "416bd0b9-ad21-4579-84ae-c383cec8d8c8",
   "metadata": {},
   "source": [
    "## Question 3"
   ]
  },
  {
   "cell_type": "code",
   "execution_count": 15,
   "id": "6a7545eb-3a31-4b9c-9b1b-813c769a00d6",
   "metadata": {},
   "outputs": [],
   "source": [
    "l = [1, 2, 3, 4, 5, 6, 7, 8, 9, 10]"
   ]
  },
  {
   "cell_type": "code",
   "execution_count": 16,
   "id": "a8653d91-686b-4d37-84ea-7a512878c58b",
   "metadata": {},
   "outputs": [
    {
     "data": {
      "text/plain": [
       "('1', '2', '3', '4', '5', '6', '7', '8', '9', '10')"
      ]
     },
     "execution_count": 16,
     "metadata": {},
     "output_type": "execute_result"
    }
   ],
   "source": [
    "tuple(map(lambda x : str(x), l))"
   ]
  },
  {
   "cell_type": "markdown",
   "id": "d4dd4d81-f8ad-4fa6-a715-5647ddee49f5",
   "metadata": {},
   "source": [
    "## Question 4"
   ]
  },
  {
   "cell_type": "code",
   "execution_count": 17,
   "id": "cfc384d8-2ddd-4ab4-929e-777570662eba",
   "metadata": {},
   "outputs": [],
   "source": [
    "l = [] "
   ]
  },
  {
   "cell_type": "code",
   "execution_count": 19,
   "id": "f5658cba-ab67-43cf-8b56-e6a6fe46a8dc",
   "metadata": {},
   "outputs": [
    {
     "name": "stdout",
     "output_type": "stream",
     "text": [
      "[1, 2, 3, 4, 5, 6, 7, 8, 9, 10, 11, 12, 13, 14, 15, 16, 17, 18, 19, 20, 21, 22, 23, 24, 25]\n"
     ]
    }
   ],
   "source": [
    "for i in range(1,26):\n",
    "    l.append(i)\n",
    "print(l)"
   ]
  },
  {
   "cell_type": "code",
   "execution_count": 20,
   "id": "a48a5f67-10a7-4c37-a3a5-d70861d570c7",
   "metadata": {},
   "outputs": [
    {
     "data": {
      "text/plain": [
       "15511210043330985984000000"
      ]
     },
     "execution_count": 20,
     "metadata": {},
     "output_type": "execute_result"
    }
   ],
   "source": [
    "from functools import reduce\n",
    "reduce(lambda x ,y : x*y, l )"
   ]
  },
  {
   "cell_type": "markdown",
   "id": "b333b52f-3663-4fc5-810c-26a09ecea45f",
   "metadata": {},
   "source": [
    "## Question 5"
   ]
  },
  {
   "cell_type": "code",
   "execution_count": 21,
   "id": "5a9e2934-a6dd-4f92-83ed-083f92bb0e23",
   "metadata": {},
   "outputs": [],
   "source": [
    "l = [2, 3, 6, 9, 27, 60, 90, 120, 55, 46]"
   ]
  },
  {
   "cell_type": "code",
   "execution_count": 26,
   "id": "41165eb2-53ef-4ad8-9444-8dc130855c07",
   "metadata": {},
   "outputs": [
    {
     "data": {
      "text/plain": [
       "[6, 60, 90, 120]"
      ]
     },
     "execution_count": 26,
     "metadata": {},
     "output_type": "execute_result"
    }
   ],
   "source": [
    "list(filter(lambda x : x if x%2==0 and x%3==0 else None, l))"
   ]
  },
  {
   "cell_type": "markdown",
   "id": "4027bf09-9665-4795-b557-e5787fe454f4",
   "metadata": {},
   "source": [
    "## Question 6"
   ]
  },
  {
   "cell_type": "code",
   "execution_count": 27,
   "id": "8c5a7fc8-76fa-4a5f-b9ca-2b5794aaa3b1",
   "metadata": {},
   "outputs": [],
   "source": [
    "l = ['python', 'php', 'aba', 'radar', 'level']"
   ]
  },
  {
   "cell_type": "code",
   "execution_count": 47,
   "id": "5c072944-86d7-4981-b388-ff0b36541f67",
   "metadata": {},
   "outputs": [
    {
     "data": {
      "text/plain": [
       "['php', 'aba', 'radar', 'level']"
      ]
     },
     "execution_count": 47,
     "metadata": {},
     "output_type": "execute_result"
    }
   ],
   "source": [
    "list(filter(lambda x: x == x[::-1], l))"
   ]
  },
  {
   "cell_type": "code",
   "execution_count": null,
   "id": "40a27e2a-4365-4623-9731-0f3033b737a6",
   "metadata": {},
   "outputs": [],
   "source": []
  }
 ],
 "metadata": {
  "kernelspec": {
   "display_name": "Python 3 (ipykernel)",
   "language": "python",
   "name": "python3"
  },
  "language_info": {
   "codemirror_mode": {
    "name": "ipython",
    "version": 3
   },
   "file_extension": ".py",
   "mimetype": "text/x-python",
   "name": "python",
   "nbconvert_exporter": "python",
   "pygments_lexer": "ipython3",
   "version": "3.10.8"
  }
 },
 "nbformat": 4,
 "nbformat_minor": 5
}
